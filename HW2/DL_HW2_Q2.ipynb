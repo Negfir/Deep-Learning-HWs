{
  "nbformat": 4,
  "nbformat_minor": 0,
  "metadata": {
    "colab": {
      "name": "DL_HW2_Q2.ipynb",
      "provenance": [],
      "authorship_tag": "ABX9TyNqqsyz0BBJhgOOMVm/HD3W",
      "include_colab_link": true
    },
    "kernelspec": {
      "name": "python3",
      "display_name": "Python 3"
    },
    "accelerator": "GPU"
  },
  "cells": [
    {
      "cell_type": "markdown",
      "metadata": {
        "id": "view-in-github",
        "colab_type": "text"
      },
      "source": [
        "<a href=\"https://colab.research.google.com/github/Negfir/Deep-Learning-HWs/blob/main/HW2/DL_HW2_Q2.ipynb\" target=\"_parent\"><img src=\"https://colab.research.google.com/assets/colab-badge.svg\" alt=\"Open In Colab\"/></a>"
      ]
    },
    {
      "cell_type": "code",
      "metadata": {
        "id": "mmDZzfBYrNLk"
      },
      "source": [
        "import numpy as np\n",
        "import torch\n",
        "import matplotlib.pyplot as plt\n",
        "import torch.nn as nn\n",
        "import torch.nn.functional as F\n",
        "\n",
        "\n",
        "torch.manual_seed(1)\n",
        "np.random.seed(1)\n",
        "\n",
        "DATASET_SIZE = 5000\n",
        "batch = 64"
      ],
      "execution_count": 89,
      "outputs": []
    },
    {
      "cell_type": "code",
      "metadata": {
        "id": "2mv7dWzIrd43"
      },
      "source": [
        "label0 = np.zeros((DATASET_SIZE, 1), dtype=int)\n",
        "label1 = np.ones((DATASET_SIZE, 1), dtype=int)\n",
        "\n",
        "r = np.random.normal(0, 1, size=(DATASET_SIZE,1))\n",
        "t = np.random.uniform(0,2*np.pi, size=(DATASET_SIZE,1))\n",
        "\n",
        "x0 = np.concatenate((np.cos(t) * r, np.sin(t) * r, label0), axis=1)\n",
        "x1 = np.concatenate((np.cos(t) * (r + 5), np.sin(t) * (r + 5), label1), axis=1)\n",
        "\n",
        "dataset = np.concatenate((x0, x1), axis=0)\n",
        "\n"
      ],
      "execution_count": 90,
      "outputs": []
    },
    {
      "cell_type": "code",
      "metadata": {
        "colab": {
          "base_uri": "https://localhost:8080/",
          "height": 265
        },
        "id": "SG4u6-pNrhiP",
        "outputId": "49379f8a-11d1-42f4-b337-bad79a72f9e8"
      },
      "source": [
        "plt.scatter(x0[:,0], x0[:,1], label='class0')\n",
        "plt.scatter(x1[:,0], x1[:,1], label='class1', marker='s')\n",
        "plt.legend()\n",
        "plt.show()"
      ],
      "execution_count": 91,
      "outputs": [
        {
          "output_type": "display_data",
          "data": {
            "image/png": "[encoded data removed]",
            "text/plain": [
              "<Figure size 432x288 with 1 Axes>"
            ]
          },
          "metadata": {
            "tags": [],
            "needs_background": "light"
          }
        }
      ]
    },
    {
      "cell_type": "code",
      "metadata": {
        "colab": {
          "base_uri": "https://localhost:8080/"
        },
        "id": "GBTbQwAqP8ol",
        "outputId": "a6481c00-c7d6-4ab2-b8cb-a949355779f1"
      },
      "source": [
        "# x_data = torch.tensor(dataset[:,0:2],requires_grad=True, dtype = torch.float32)\n",
        "# y_data = torch.tensor(dataset[:,2],dtype = torch.int64)\n",
        "data = torch.utils.data.TensorDataset(torch.Tensor(dataset[:,0:2]), torch.Tensor(dataset[:,2]))\n",
        "# data = torch.utils.data.TensorDataset(x_data, y_data)\n",
        "print(len(data))\n",
        "data_trainset, data_valset = torch.utils.data.random_split(data, lengths=[int(2*DATASET_SIZE*0.8), int(2*DATASET_SIZE*0.2)])\n",
        "\n",
        "train_data = torch.utils.data.DataLoader(data_trainset, batch_size=batch, shuffle=True)\n",
        "val_data = torch.utils.data.DataLoader(data_valset, batch_size=batch, shuffle=False)\n"
      ],
      "execution_count": 92,
      "outputs": [
        {
          "output_type": "stream",
          "text": [
            "10000\n"
          ],
          "name": "stdout"
        }
      ]
    },
    {
      "cell_type": "code",
      "metadata": {
        "colab": {
          "base_uri": "https://localhost:8080/"
        },
        "id": "uY4euu5ajUEU",
        "outputId": "f225d57b-78c5-45cd-d86d-03b7ae276ea9"
      },
      "source": [
        "device = 'cuda' if torch.cuda.is_available() else 'cpu'\n",
        "print(device)"
      ],
      "execution_count": 49,
      "outputs": [
        {
          "output_type": "stream",
          "text": [
            "cuda\n"
          ],
          "name": "stdout"
        }
      ]
    },
    {
      "cell_type": "code",
      "metadata": {
        "id": "jqtdvdXVg7Yi"
      },
      "source": [
        "class Network(nn.Module):\n",
        "    def __init__(self, n_in, n_hidden):\n",
        "        super(Network, self).__init__()\n",
        "        self.layer1 = nn.Linear(n_in, n_hidden)\n",
        "        self.layer2 = nn.Linear(n_hidden, 2)\n",
        "    \n",
        "    def forward(self, x):\n",
        "        # out = self.layer2(torch.relu(self.layer1(x)))\n",
        "        # print(out.requires_grad)\n",
        "        return self.layer2(torch.relu(self.layer1(x)))\n",
        "\n",
        "model = Network(n_in=2, n_hidden=8)#.to(device)\n",
        "optimizer = torch.optim.SGD(model.parameters(), lr=0.005)\n",
        "criterion = nn.CrossEntropyLoss()\n"
      ],
      "execution_count": 97,
      "outputs": []
    },
    {
      "cell_type": "code",
      "metadata": {
        "colab": {
          "base_uri": "https://localhost:8080/",
          "height": 1000
        },
        "id": "lV5CWyuGjACe",
        "outputId": "a9d8bcac-d3a0-4d64-d78a-9e0d38663168"
      },
      "source": [
        "n_epoch = 50\n",
        "train_losses = []\n",
        "val_losses = []\n",
        "for epoch in range(n_epoch):\n",
        "    \n",
        "    # training loop here\n",
        "        \n",
        "    model.train() # signal train phase\n",
        "    train_loss = 0.0\n",
        "    val_loss = 0.0\n",
        "    number_of_sub_epoch = 0\n",
        "    correct_t =0\n",
        "    total_t = 0\n",
        "    for x, y in train_data:\n",
        "        # x, y = x.to(device, dtype=torch.int64), y.to(device, dtype=torch.int64) # move the data to cuda\n",
        "        # print(x.shape, y.shape)\n",
        "        # zero the parameter gradients\n",
        "        optimizer.zero_grad()\n",
        "\n",
        "        # forward + backward + optimize\n",
        "        y_hat = model(x)\n",
        "        # print(y_hat)\n",
        "        # print(y)\n",
        "        y = y.type(torch.int64)\n",
        "        # y_hat = y_hat.float()\n",
        "        train_loss = criterion(y_hat,y)\n",
        "        train_loss += train_loss.item()\n",
        "        train_loss.backward()\n",
        "        optimizer.step()\n",
        "        \n",
        "        number_of_sub_epoch += 1\n",
        "        _,pred_t = torch.max(y_hat, dim=1)\n",
        "        correct_t += torch.sum(pred_t==y).item()\n",
        "        total_t += y.size(0)\n",
        "    train_losses.append(train_loss / number_of_sub_epoch)\n",
        "    print(\"Epoch {}: \\nTrain loss: {}\".format(epoch, train_loss / number_of_sub_epoch), f'train acc: {(100 * correct_t / total_t):.4f}')\n",
        "    \n",
        "    number_of_sub_epoch = 0\n",
        "    correct_t =0\n",
        "    total_t = 0\n",
        "    model.eval()\n",
        "    with torch.no_grad():\n",
        "        for x_val,y_val in val_data:\n",
        "            y_hat = model(x_val)\n",
        "            y_val = y_val.type(torch.int64)\n",
        "            val_loss = criterion(y_hat, y_val)\n",
        "            val_loss += val_loss.item()\n",
        "            number_of_sub_epoch += 1\n",
        "            _,pred_t = torch.max(y_hat, dim=1)\n",
        "            correct_t += torch.sum(pred_t==y_val).item()\n",
        "            total_t += y_val.size(0)\n",
        "        val_losses.append(val_loss / number_of_sub_epoch)\n",
        "    print(\"Validation loss: {}\".format(val_loss / number_of_sub_epoch), f'Validation acc: {(100 * correct_t / total_t):.4f}')\n",
        "\n",
        "\n",
        "    \n",
        "    # print(\"%d\\tbatch-loss: %.4f\\tbatch-acc: %.4f\\tval-loss: %.4f\\tval-acc: %.4f\"%(\n",
        "    #     epoch, val_loss))\n",
        "plt.plot(range(n_epoch), train_losses, label='Train Loss', c='b')\n",
        "plt.plot(range(n_epoch), val_losses, label='Val Loss', c='r')\n",
        "plt.legend()\n",
        "plt.show()"
      ],
      "execution_count": 98,
      "outputs": [
        {
          "output_type": "stream",
          "text": [
            "Epoch 0: \n",
            "Train loss: 0.010752405971288681 train acc: 38.0000\n",
            "Validation loss: 0.03409186378121376 Validation acc: 51.2000\n",
            "Epoch 1: \n",
            "Train loss: 0.009103022515773773 train acc: 52.7875\n",
            "Validation loss: 0.03096861019730568 Validation acc: 55.5000\n",
            "Epoch 2: \n",
            "Train loss: 0.008180968463420868 train acc: 63.4250\n",
            "Validation loss: 0.028666088357567787 Validation acc: 73.8000\n",
            "Epoch 3: \n",
            "Train loss: 0.008451252244412899 train acc: 80.6750\n",
            "Validation loss: 0.026594610884785652 Validation acc: 86.2000\n",
            "Epoch 4: \n",
            "Train loss: 0.006437753327190876 train acc: 87.9000\n",
            "Validation loss: 0.024584107100963593 Validation acc: 90.3000\n",
            "Epoch 5: \n",
            "Train loss: 0.006885025650262833 train acc: 91.3375\n",
            "Validation loss: 0.022717082872986794 Validation acc: 93.5500\n",
            "Epoch 6: \n",
            "Train loss: 0.006627392489463091 train acc: 93.2875\n",
            "Validation loss: 0.020987095311284065 Validation acc: 95.1500\n",
            "Epoch 7: \n",
            "Train loss: 0.004667327273637056 train acc: 94.7125\n",
            "Validation loss: 0.019426379352808 Validation acc: 96.1000\n",
            "Epoch 8: \n",
            "Train loss: 0.005322634242475033 train acc: 95.5500\n",
            "Validation loss: 0.01800859346985817 Validation acc: 96.7000\n",
            "Epoch 9: \n",
            "Train loss: 0.004091463051736355 train acc: 96.2500\n",
            "Validation loss: 0.016735823825001717 Validation acc: 97.2500\n",
            "Epoch 10: \n",
            "Train loss: 0.0036709022242575884 train acc: 96.9000\n",
            "Validation loss: 0.015600362792611122 Validation acc: 97.7000\n",
            "Epoch 11: \n",
            "Train loss: 0.0038430008571594954 train acc: 97.3375\n",
            "Validation loss: 0.014622373506426811 Validation acc: 97.9000\n",
            "Epoch 12: \n",
            "Train loss: 0.004095527809113264 train acc: 97.6250\n",
            "Validation loss: 0.013774686492979527 Validation acc: 98.1500\n",
            "Epoch 13: \n",
            "Train loss: 0.0033322814851999283 train acc: 97.9250\n",
            "Validation loss: 0.013021553866565228 Validation acc: 98.4500\n",
            "Epoch 14: \n",
            "Train loss: 0.003122298512607813 train acc: 98.2250\n",
            "Validation loss: 0.012343224138021469 Validation acc: 98.5000\n",
            "Epoch 15: \n",
            "Train loss: 0.0028155078180134296 train acc: 98.2875\n",
            "Validation loss: 0.011734342202544212 Validation acc: 98.6000\n",
            "Epoch 16: \n",
            "Train loss: 0.002598992781713605 train acc: 98.4000\n",
            "Validation loss: 0.011145107448101044 Validation acc: 98.5000\n",
            "Epoch 17: \n",
            "Train loss: 0.0026410010177642107 train acc: 98.5125\n",
            "Validation loss: 0.01062370277941227 Validation acc: 98.7500\n",
            "Epoch 18: \n",
            "Train loss: 0.0027126066852360964 train acc: 98.5875\n",
            "Validation loss: 0.010138279758393764 Validation acc: 98.7500\n",
            "Epoch 19: \n",
            "Train loss: 0.0028204182162880898 train acc: 98.6250\n",
            "Validation loss: 0.00970700103789568 Validation acc: 98.7500\n",
            "Epoch 20: \n",
            "Train loss: 0.001730551477521658 train acc: 98.7250\n",
            "Validation loss: 0.009311007335782051 Validation acc: 98.8500\n",
            "Epoch 21: \n",
            "Train loss: 0.0017125623999163508 train acc: 98.7875\n",
            "Validation loss: 0.008955470286309719 Validation acc: 98.8000\n",
            "Epoch 22: \n",
            "Train loss: 0.0021170852705836296 train acc: 98.8250\n",
            "Validation loss: 0.00862328801304102 Validation acc: 98.7500\n",
            "Epoch 23: \n",
            "Train loss: 0.0026829985436052084 train acc: 98.8375\n",
            "Validation loss: 0.00831571314483881 Validation acc: 98.7500\n",
            "Epoch 24: \n",
            "Train loss: 0.0016792499227449298 train acc: 98.8750\n",
            "Validation loss: 0.008039437234401703 Validation acc: 98.7500\n",
            "Epoch 25: \n",
            "Train loss: 0.001925385557115078 train acc: 98.8875\n",
            "Validation loss: 0.007792812306433916 Validation acc: 98.8000\n",
            "Epoch 26: \n",
            "Train loss: 0.0022686515003442764 train acc: 98.9375\n",
            "Validation loss: 0.00756877101957798 Validation acc: 98.8500\n",
            "Epoch 27: \n",
            "Train loss: 0.0015349355526268482 train acc: 98.9375\n",
            "Validation loss: 0.007365622092038393 Validation acc: 98.8500\n",
            "Epoch 28: \n",
            "Train loss: 0.0019042178755626082 train acc: 99.0000\n",
            "Validation loss: 0.007164692506194115 Validation acc: 98.8500\n",
            "Epoch 29: \n",
            "Train loss: 0.0017807029653340578 train acc: 99.0000\n",
            "Validation loss: 0.006987677421420813 Validation acc: 98.8500\n",
            "Epoch 30: \n",
            "Train loss: 0.0016630603931844234 train acc: 99.0125\n",
            "Validation loss: 0.00682747270911932 Validation acc: 98.8000\n",
            "Epoch 31: \n",
            "Train loss: 0.001160797313787043 train acc: 99.0250\n",
            "Validation loss: 0.006675452459603548 Validation acc: 98.9000\n",
            "Epoch 32: \n",
            "Train loss: 0.0013575170887634158 train acc: 99.0250\n",
            "Validation loss: 0.006536881905049086 Validation acc: 98.9000\n",
            "Epoch 33: \n",
            "Train loss: 0.001241718651726842 train acc: 99.0375\n",
            "Validation loss: 0.0064093563705682755 Validation acc: 98.9000\n",
            "Epoch 34: \n",
            "Train loss: 0.001272355206310749 train acc: 99.0250\n",
            "Validation loss: 0.006284686736762524 Validation acc: 98.8500\n",
            "Epoch 35: \n",
            "Train loss: 0.0015422232681885362 train acc: 99.0125\n",
            "Validation loss: 0.006172554101794958 Validation acc: 98.8500\n",
            "Epoch 36: \n",
            "Train loss: 0.0016328422352671623 train acc: 99.0250\n",
            "Validation loss: 0.006069648079574108 Validation acc: 98.9000\n",
            "Epoch 37: \n",
            "Train loss: 0.001579962088726461 train acc: 99.0125\n",
            "Validation loss: 0.005972352344542742 Validation acc: 98.9000\n",
            "Epoch 38: \n",
            "Train loss: 0.0015469592763110995 train acc: 99.0125\n",
            "Validation loss: 0.005873647052794695 Validation acc: 98.9000\n",
            "Epoch 39: \n",
            "Train loss: 0.0010694547090679407 train acc: 99.0000\n",
            "Validation loss: 0.005786160472780466 Validation acc: 98.9500\n",
            "Epoch 40: \n",
            "Train loss: 0.0019917800091207027 train acc: 99.0125\n",
            "Validation loss: 0.005696946755051613 Validation acc: 98.9500\n",
            "Epoch 41: \n",
            "Train loss: 0.0014420365914702415 train acc: 99.0375\n",
            "Validation loss: 0.005607898347079754 Validation acc: 98.9500\n",
            "Epoch 42: \n",
            "Train loss: 0.000852214521728456 train acc: 99.0125\n",
            "Validation loss: 0.005532015115022659 Validation acc: 98.9500\n",
            "Epoch 43: \n",
            "Train loss: 0.0012044007889926434 train acc: 99.0125\n",
            "Validation loss: 0.005461999215185642 Validation acc: 99.0000\n",
            "Epoch 44: \n",
            "Train loss: 0.0008991631912067533 train acc: 99.0125\n",
            "Validation loss: 0.00539462361484766 Validation acc: 99.0000\n",
            "Epoch 45: \n",
            "Train loss: 0.0010784202022477984 train acc: 99.0125\n",
            "Validation loss: 0.005332851782441139 Validation acc: 99.0000\n",
            "Epoch 46: \n",
            "Train loss: 0.0016001998446881771 train acc: 99.0125\n",
            "Validation loss: 0.005271789152175188 Validation acc: 99.0000\n",
            "Epoch 47: \n",
            "Train loss: 0.0014716112054884434 train acc: 99.0375\n",
            "Validation loss: 0.005210286006331444 Validation acc: 99.0000\n",
            "Epoch 48: \n",
            "Train loss: 0.0011778431944549084 train acc: 99.0500\n",
            "Validation loss: 0.005153465084731579 Validation acc: 99.0000\n",
            "Epoch 49: \n",
            "Train loss: 0.0011462810216471553 train acc: 99.0375\n",
            "Validation loss: 0.005099973641335964 Validation acc: 99.0000\n"
          ],
          "name": "stdout"
        },
        {
          "output_type": "display_data",
          "data": {
            "image/png": "[encoded data removed]",
            "text/plain": [
              "<Figure size 432x288 with 1 Axes>"
            ]
          },
          "metadata": {
            "tags": [],
            "needs_background": "light"
          }
        }
      ]
    }
  ]
}