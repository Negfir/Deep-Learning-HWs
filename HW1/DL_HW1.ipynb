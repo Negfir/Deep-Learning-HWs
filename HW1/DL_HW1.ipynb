{
  "nbformat": 4,
  "nbformat_minor": 0,
  "metadata": {
    "colab": {
      "name": "DL_HW1.ipynb",
      "provenance": [],
      "collapsed_sections": [],
      "authorship_tag": "ABX9TyOeLtKNY+64XOL/M4tlStom",
      "include_colab_link": true
    },
    "kernelspec": {
      "name": "python3",
      "display_name": "Python 3"
    }
  },
  "cells": [
    {
      "cell_type": "markdown",
      "metadata": {
        "id": "view-in-github",
        "colab_type": "text"
      },
      "source": [
        "<a href=\"https://colab.research.google.com/github/Negfir/Deep-Learning-HWs/blob/main/HW1/DL_HW1.ipynb\" target=\"_parent\"><img src=\"https://colab.research.google.com/assets/colab-badge.svg\" alt=\"Open In Colab\"/></a>"
      ]
    },
    {
      "cell_type": "code",
      "metadata": {
        "id": "d5k3co7eOGAK"
      },
      "source": [
        "import numpy as np\n",
        "import time\n",
        "import pandas as pd\n",
        "import matplotlib.pyplot as plt\n",
        "import torch\n"
      ],
      "execution_count": 2,
      "outputs": []
    },
    {
      "cell_type": "code",
      "metadata": {
        "colab": {
          "base_uri": "https://localhost:8080/"
        },
        "id": "eWYlol6COg7Q",
        "outputId": "89596fc5-e6fc-49ec-db03-5bd813e8aae6"
      },
      "source": [
        "from google.colab import drive\n",
        "drive.mount('/content/gdrive' )"
      ],
      "execution_count": 3,
      "outputs": [
        {
          "output_type": "stream",
          "text": [
            "Mounted at /content/gdrive\n"
          ],
          "name": "stdout"
        }
      ]
    },
    {
      "cell_type": "code",
      "metadata": {
        "colab": {
          "base_uri": "https://localhost:8080/"
        },
        "id": "rmzJ8j_4Or1a",
        "outputId": "eeb43de1-8f3e-4950-bca1-d03afec5d52b"
      },
      "source": [
        "%cd '/content/gdrive/My Drive/Dataset'\n"
      ],
      "execution_count": 4,
      "outputs": [
        {
          "output_type": "stream",
          "text": [
            "/content/gdrive/My Drive/Dataset\n"
          ],
          "name": "stdout"
        }
      ]
    },
    {
      "cell_type": "code",
      "metadata": {
        "colab": {
          "base_uri": "https://localhost:8080/"
        },
        "id": "WGvJKF-2O0RT",
        "outputId": "e19e41dc-5fc9-44de-f496-e4eee3d352e1"
      },
      "source": [
        "# Training Data\n",
        "x_train = pd.read_csv('data/training_set.csv', header=None).values\n",
        "x_train = torch.from_numpy(x_train.astype(float))\n",
        "y_train = pd.read_csv('data/training_labels_bin.csv', header=None).values\n",
        "y_train = torch.from_numpy(y_train.astype(float))\n",
        "x_val = pd.read_csv('data/validation_set.csv', header=None).values\n",
        "x_val = torch.from_numpy(x_val.astype(float))\n",
        "y_val = pd.read_csv('data/validation_labels_bin.csv', header=None).values\n",
        "y_val = torch.from_numpy(y_val.astype(float))\n",
        "N = len(x_train)\n",
        "x_train.shape\n"
      ],
      "execution_count": 24,
      "outputs": [
        {
          "output_type": "execute_result",
          "data": {
            "text/plain": [
              "torch.Size([8442, 354])"
            ]
          },
          "metadata": {
            "tags": []
          },
          "execution_count": 24
        }
      ]
    },
    {
      "cell_type": "code",
      "metadata": {
        "colab": {
          "base_uri": "https://localhost:8080/"
        },
        "id": "vkOtJ1LwN8X8",
        "outputId": "2739dd9f-ae1a-47ee-bce8-17bdfa445a1e"
      },
      "source": [
        "start = time.time()\n",
        "\n",
        "torch.manual_seed(6)\n",
        "\n",
        "num_feats = x_train.shape[1]\n",
        "n_out = y_train.shape[1]\n",
        "\n",
        "# hyperparameters (you may change these)\n",
        "eta = 0.1 # intial learning rate\n",
        "gamma = 0.1 # multiplier for the learning rate\n",
        "stepsize = 200 # epochs before changing learning rate\n",
        "threshold = 0.08 # stopping criterion\n",
        "test_interval = 10 # number of epoch before validating\n",
        "max_epoch = 5\n",
        "\n",
        "# Define Architecture of NN\n",
        "# [ ] Intialize your network weights and biases here\n",
        "\n",
        "#Network size\n",
        "inputSize = x_train.shape[1]\n",
        "outputSize = 3\n",
        "hidden_1_Size = 8\n",
        "hidden_2_Size = 8\n",
        "\n",
        "W1= torch.rand((inputSize, hidden_1_Size), requires_grad=True)\n",
        "W1 = 1 - (W1.float()*2)\n",
        "\n",
        "W2= torch.rand((hidden_1_Size, hidden_2_Size), requires_grad=True)\n",
        "W2 = 1 - (W2.float()*2)\n",
        "\n",
        "W3= torch.rand((hidden_2_Size, outputSize), requires_grad=True)\n",
        "W3 = 1 - (W3.float()*2)\n",
        "\n",
        "def forward(x):\n",
        "    h1 = torch.sigmoid(torch.matmul(x.float(),W1))\n",
        "    h2 = torch.sigmoid(torch.matmul( h1, W2))\n",
        "    y_pred = torch.sigmoid(torch.matmul(h2, W3))\n",
        "    # y_pred = torch.where(y_pred > 0.5, 1, 0)\n",
        "    return y_pred\n",
        "\n",
        "\n",
        "for epoch in range(0, max_epoch):\n",
        "    \n",
        "    order = np.random.permutation(N) # shuffle data\n",
        "    \n",
        "    sse = 0\n",
        "    for n in range(0, N):\n",
        "        idx = order[n]\n",
        "\n",
        "        # get a sample (batch size=1)\n",
        "        x_in = x_train[idx]\n",
        "        y = y_train[idx]\n",
        "\n",
        "        # [ ] do the forward pass here\n",
        "        # hint: you need to save the output of each layer to calculate the gradients later\n",
        "        forward(x_in)\n",
        "    \n",
        "        # [ ] compute error and gradients here\n",
        "        # hint: don't forget the chain rule\n",
        "               \n",
        "\n",
        "        # [ ] update weights and biases here\n",
        "        # update weights and biases in output layer \n",
        "\n",
        "    \n",
        "        sse += 0 #squared_error\n",
        "\n",
        "    #Accuracy\n",
        "    acc = torch.sum(forward(x_train) == y_train)/float(len(y_train))\n",
        "    print(f\"Accuracy of Trial {epoch}: {acc}\")\n",
        "\n",
        "\n",
        "    train_mse = sse/len(x_train)\n",
        "\n",
        "    # if epoch % test_interval == 0: \n",
        "    #     # [ ] test on validation set here\n",
        "\n",
        "    #     # if termination condition is satisfied, exit\n",
        "    #     if val_mse < threshold:\n",
        "    #         break\n",
        "\n",
        "    if epoch % stepsize == 0 and epoch != 0:\n",
        "        eta = eta*gamma\n",
        "        print('Changed learning rate to lr=' + str(eta))"
      ],
      "execution_count": 36,
      "outputs": [
        {
          "output_type": "stream",
          "text": [
            "Accuracy of Trial 0: 0.0\n",
            "Accuracy of Trial 1: 0.0\n",
            "Accuracy of Trial 2: 0.0\n",
            "Accuracy of Trial 3: 0.0\n",
            "Accuracy of Trial 4: 0.0\n"
          ],
          "name": "stdout"
        }
      ]
    }
  ]
}