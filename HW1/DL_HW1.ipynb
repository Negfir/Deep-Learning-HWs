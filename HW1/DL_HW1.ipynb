{
  "nbformat": 4,
  "nbformat_minor": 0,
  "metadata": {
    "colab": {
      "name": "DL_HW1.ipynb",
      "provenance": [],
      "collapsed_sections": [],
      "include_colab_link": true
    },
    "kernelspec": {
      "name": "python3",
      "display_name": "Python 3"
    }
  },
  "cells": [
    {
      "cell_type": "markdown",
      "metadata": {
        "id": "view-in-github",
        "colab_type": "text"
      },
      "source": [
        "<a href=\"https://colab.research.google.com/github/Negfir/Deep-Learning-HWs/blob/main/HW1/DL_HW1.ipynb\" target=\"_parent\"><img src=\"https://colab.research.google.com/assets/colab-badge.svg\" alt=\"Open In Colab\"/></a>"
      ]
    },
    {
      "cell_type": "code",
      "metadata": {
        "id": "d5k3co7eOGAK"
      },
      "source": [
        "import numpy as np\n",
        "import time\n",
        "import pandas as pd\n",
        "import matplotlib.pyplot as plt\n",
        "import torch\n"
      ],
      "execution_count": 1,
      "outputs": []
    },
    {
      "cell_type": "code",
      "metadata": {
        "colab": {
          "base_uri": "https://localhost:8080/"
        },
        "id": "eWYlol6COg7Q",
        "outputId": "2065f950-f40c-41f8-d143-83cff2830c0d"
      },
      "source": [
        "from google.colab import drive\n",
        "drive.mount('/content/gdrive' )"
      ],
      "execution_count": 2,
      "outputs": [
        {
          "output_type": "stream",
          "text": [
            "Mounted at /content/gdrive\n"
          ],
          "name": "stdout"
        }
      ]
    },
    {
      "cell_type": "code",
      "metadata": {
        "colab": {
          "base_uri": "https://localhost:8080/"
        },
        "id": "rmzJ8j_4Or1a",
        "outputId": "19f6a580-05ce-4750-af70-a6e01b712824"
      },
      "source": [
        "%cd '/content/gdrive/My Drive/Dataset'\n"
      ],
      "execution_count": 3,
      "outputs": [
        {
          "output_type": "stream",
          "text": [
            "/content/gdrive/My Drive/Dataset\n"
          ],
          "name": "stdout"
        }
      ]
    },
    {
      "cell_type": "code",
      "metadata": {
        "colab": {
          "base_uri": "https://localhost:8080/"
        },
        "id": "WGvJKF-2O0RT",
        "outputId": "730dae54-fff9-43b6-9ebe-8aa1b4de1297"
      },
      "source": [
        "# Training Data\n",
        "x_train = pd.read_csv('data/training_set.csv', header=None).values\n",
        "x_train = torch.from_numpy(x_train.astype(float))\n",
        "y_train = pd.read_csv('data/training_labels_bin.csv', header=None).values\n",
        "y_train = torch.from_numpy(y_train.astype(float))\n",
        "x_val = pd.read_csv('data/validation_set.csv', header=None).values\n",
        "x_val = torch.from_numpy(x_val.astype(float))\n",
        "y_val = pd.read_csv('data/validation_labels_bin.csv', header=None).values\n",
        "y_val = torch.from_numpy(y_val.astype(float))\n",
        "N = len(x_train)\n",
        "x_train.shape\n"
      ],
      "execution_count": 4,
      "outputs": [
        {
          "output_type": "execute_result",
          "data": {
            "text/plain": [
              "torch.Size([8442, 354])"
            ]
          },
          "metadata": {
            "tags": []
          },
          "execution_count": 4
        }
      ]
    },
    {
      "cell_type": "code",
      "metadata": {
        "colab": {
          "base_uri": "https://localhost:8080/"
        },
        "id": "vkOtJ1LwN8X8",
        "outputId": "3705db7d-147f-4f3e-bc47-c202a7660f51"
      },
      "source": [
        "start = time.time()\n",
        "\n",
        "torch.manual_seed(6)\n",
        "\n",
        "num_feats = x_train.shape[1]\n",
        "n_out = y_train.shape[1]\n",
        "\n",
        "# hyperparameters (you may change these)\n",
        "eta = 0.1 # intial learning rate\n",
        "gamma = 0.1 # multiplier for the learning rate\n",
        "stepsize = 200 # epochs before changing learning rate\n",
        "threshold = 0.08 # stopping criterion\n",
        "test_interval = 10 # number of epoch before validating\n",
        "max_epoch = 5\n",
        "\n",
        "# Define Architecture of NN\n",
        "# [ ] Intialize your network weights and biases here\n",
        "\n",
        "#Network size\n",
        "inputSize = x_train.shape[1]\n",
        "outputSize = 3\n",
        "hidden_1_Size = 8\n",
        "hidden_2_Size = 8\n",
        "\n",
        "W1= torch.rand((inputSize, hidden_1_Size), requires_grad=True)\n",
        "W1 = 1 - (W1.float()*2)\n",
        "\n",
        "W2= torch.rand((hidden_1_Size, hidden_2_Size), requires_grad=True)\n",
        "W2 = 1 - (W2.float()*2)\n",
        "\n",
        "W3= torch.rand((hidden_2_Size, outputSize), requires_grad=True)\n",
        "W3 = 1 - (W3.float()*2)\n",
        "\n",
        "def forward(x):\n",
        "    h1 = torch.sigmoid(torch.matmul(x.float(),W1))\n",
        "    h2 = torch.sigmoid(torch.matmul( h1, W2))\n",
        "    y_pred = torch.sigmoid(torch.matmul(h2, W3))\n",
        "    # y_pred = torch.where(y_pred > 0.5, 1, 0)\n",
        "    return y_pred\n",
        "\n",
        "\n",
        "def backward(self, X, y, o):\n",
        "        self.o_error = y - o # error in output\n",
        "        self.o_delta = self.o_error * self.sigmoidPrime(o) # derivative of sig to error\n",
        "        self.z2_error = torch.matmul(self.o_delta, torch.t(self.W2))\n",
        "        self.z2_delta = self.z2_error * self.sigmoidPrime(self.z2)\n",
        "        self.W1 += torch.matmul(torch.t(X), self.z2_delta)\n",
        "        self.W2 += torch.matmul(torch.t(self.z2), self.o_delta)\n",
        "\n",
        "for epoch in range(0, max_epoch):\n",
        "    \n",
        "    order = np.random.permutation(N) # shuffle data\n",
        "    \n",
        "    sse = 0\n",
        "    for n in range(0, N):\n",
        "        idx = order[n]\n",
        "\n",
        "        # get a sample (batch size=1)\n",
        "        x_in = x_train[idx]\n",
        "        y = y_train[idx]\n",
        "\n",
        "        # [ ] do the forward pass here\n",
        "        # hint: you need to save the output of each layer to calculate the gradients later\n",
        "        forward(x_in)\n",
        "    \n",
        "        # [ ] compute error and gradients here\n",
        "        # hint: don't forget the chain rule\n",
        "               \n",
        "\n",
        "        # [ ] update weights and biases here\n",
        "        # update weights and biases in output layer \n",
        "\n",
        "    \n",
        "        sse += 0 #squared_error\n",
        "\n",
        "    #Accuracy\n",
        "    acc = torch.sum(forward(x_train) == y_train)/float(len(y_train))\n",
        "    print(f\"Accuracy of Trial {epoch}: {acc}\")\n",
        "\n",
        "\n",
        "    train_mse = sse/len(x_train)\n",
        "\n",
        "    # if epoch % test_interval == 0: \n",
        "    #     # [ ] test on validation set here\n",
        "\n",
        "    #     # if termination condition is satisfied, exit\n",
        "    #     if val_mse < threshold:\n",
        "    #         break\n",
        "\n",
        "    if epoch % stepsize == 0 and epoch != 0:\n",
        "        eta = eta*gamma\n",
        "        print('Changed learning rate to lr=' + str(eta))"
      ],
      "execution_count": 5,
      "outputs": [
        {
          "output_type": "stream",
          "text": [
            "Accuracy of Trial 0: 0.0\n",
            "Accuracy of Trial 1: 0.0\n",
            "Accuracy of Trial 2: 0.0\n",
            "Accuracy of Trial 3: 0.0\n",
            "Accuracy of Trial 4: 0.0\n"
          ],
          "name": "stdout"
        }
      ]
    },
    {
      "cell_type": "markdown",
      "metadata": {
        "id": "kaN_qgwnLY7x"
      },
      "source": [
        "# **Trial**"
      ]
    },
    {
      "cell_type": "code",
      "metadata": {
        "colab": {
          "base_uri": "https://localhost:8080/"
        },
        "id": "OaWZJm6eLX6E",
        "outputId": "9d99feb8-a938-4342-f5a5-31054abfa6a7"
      },
      "source": [
        "# Training Data\n",
        "x_train = pd.read_csv('data/training_set.csv', header=None).values\n",
        "y_train = pd.read_csv('data/training_labels_bin.csv', header=None).values\n",
        "x_val = pd.read_csv('data/validation_set.csv', header=None).values\n",
        "y_val = pd.read_csv('data/validation_labels_bin.csv', header=None).values\n",
        "N = len(x_train)\n",
        "x_train.shape"
      ],
      "execution_count": 6,
      "outputs": [
        {
          "output_type": "execute_result",
          "data": {
            "text/plain": [
              "(8442, 354)"
            ]
          },
          "metadata": {
            "tags": []
          },
          "execution_count": 6
        }
      ]
    },
    {
      "cell_type": "code",
      "metadata": {
        "colab": {
          "base_uri": "https://localhost:8080/"
        },
        "id": "KovAb8OELf4T",
        "outputId": "10d5c0b6-25f5-4da9-841d-f811ef02ca40"
      },
      "source": [
        "start = time.time()\n",
        "\n",
        "torch.manual_seed(6)\n",
        "\n",
        "num_feats = x_train.shape[1]\n",
        "n_out = y_train.shape[1]\n",
        "\n",
        "# hyperparameters (you may change these)\n",
        "eta = 0.005 # intial learning rate\n",
        "gamma = 0.1 # multiplier for the learning rate\n",
        "stepsize = 200 # epochs before changing learning rate\n",
        "threshold = 0.08 # stopping criterion\n",
        "test_interval = 10 # number of epoch before validating\n",
        "max_epoch = 30\n",
        "\n",
        "# Define Architecture of NN\n",
        "# [ ] Intialize your network weights and biases here\n",
        "\n",
        "#Network size\n",
        "inputSize = x_train.shape[1]\n",
        "outputSize = 3\n",
        "hidden_1_Size = 16\n",
        "hidden_2_Size = 8\n",
        "\n",
        "W1= np.random.rand(inputSize, hidden_1_Size)\n",
        "W1 = 1 - (W1*2)\n",
        "b1 = np.random.randn(hidden_1_Size)\n",
        "\n",
        "W2= np.random.rand(hidden_1_Size, hidden_2_Size)\n",
        "W2 = 1 - (W2*2)\n",
        "b2 = np.random.randn(hidden_2_Size)\n",
        "\n",
        "W3= np.random.rand(hidden_2_Size, outputSize)\n",
        "W3 = 1 - (W3*2)\n",
        "b3 = np.random.randn(outputSize)\n",
        "\n",
        "def sigmoid(x):\n",
        "    return 1/(1+np.exp(-x))\n",
        "\n",
        "def sigmoid_der(x):\n",
        "    return sigmoid(x) *(1-sigmoid (x))\n",
        "\n",
        "def predict(x):\n",
        "    h1 = sigmoid(np.matmul(x,W1)+b1)\n",
        "    h2 = sigmoid(np.matmul( h1, W2)+b2)\n",
        "    y_pred = sigmoid(np.matmul(h2, W3)+b3)\n",
        "    y_pred = np.where(y_pred > 0.5, 1, 0)\n",
        "    return y_pred\n",
        "\n",
        "def accuracy(pred, y):\n",
        "    acc=0\n",
        "    for i,x in enumerate(pred):\n",
        "      acc += np.sum(x == y[i])/float(len(y[i]))\n",
        "    return acc/len(pred)\n",
        "\n",
        "\n",
        "training_losses = []\n",
        "\n",
        "\n",
        "for epoch in range(0, max_epoch):\n",
        "    \n",
        "    order = np.random.permutation(N) # shuffle data\n",
        "    \n",
        "    sse = 0\n",
        "    for n in range(0, N):\n",
        "        idx = order[n]\n",
        "\n",
        "        # get a sample (batch size=1)\n",
        "        x_in = x_train[idx]\n",
        "        y = y_train[idx]\n",
        "\n",
        "        # [ ] do the forward pass here\n",
        "        # hint: you need to save the output of each layer to calculate the gradients later\n",
        "        z1 = np.matmul(x_in,W1)+b1\n",
        "        h1 = sigmoid(z1)\n",
        "        z2 = np.matmul( h1, W2)+b2\n",
        "        h2 = sigmoid(z2)\n",
        "        z3 = np.matmul(h2, W3)+b3\n",
        "        y_pred = sigmoid(z3)\n",
        "    \n",
        "        # [ ] compute error and gradients here\n",
        "        # hint: don't forget the chain rule\n",
        "        dsse_dy = np.sum(2*(y_pred - y))\n",
        "        dy_dz3 = sigmoid_der(z3)\n",
        "        dsse_dz3 = dsse_dy * dy_dz3\n",
        "        dz3_dw3 = h2\n",
        "        dsse_dw3 = np.dot(dsse_dz3.reshape(len(dsse_dz3),1),dz3_dw3.reshape(1,len(dz3_dw3)))\n",
        "        dsse_db3 = np.dot(dsse_dy,dy_dz3)\n",
        "\n",
        "        dz3_dh2 = W3\n",
        "        dsse_dh2 = np.dot(dz3_dh2,dsse_dz3)\n",
        "        dh2_dz2 = sigmoid_der(z2)\n",
        "        dsse_dz2 = dh2_dz2 * dsse_dh2\n",
        "        dz2_dw2 = h1\n",
        "        dsse_dw2 = np.dot(dsse_dz2.reshape(len(dsse_dz2),1),dz2_dw2.reshape(1,len(dz2_dw2)))\n",
        "        dsse_db2 = dh2_dz2 * dsse_dh2\n",
        "\n",
        "        dz2_dh1 = W2\n",
        "        dsse_dh1 = np.dot(dz2_dh1,dsse_dz2)\n",
        "        dh1_dz1 = sigmoid_der(z1)\n",
        "        dsse_dz1 = dh1_dz1 * dsse_dh1\n",
        "        dz1_dw1 = x_in\n",
        "        dsse_dw1 = np.dot(dsse_dz1.reshape(len(dsse_dz1),1),dz1_dw1.reshape(1,len(dz1_dw1)))\n",
        "        dsse_db1 = dh1_dz1 * dsse_dh1\n",
        "\n",
        "\n",
        "\n",
        "        # [ ] update weights and biases here\n",
        "        # update weights and biases in output layer \n",
        "        W1 -= eta * dsse_dw1.T\n",
        "        b1 -= eta * dsse_db1\n",
        "\n",
        "        W2 -= eta * dsse_dw2.T\n",
        "        b2 -= eta * dsse_db2\n",
        "\n",
        "        W3 -= eta * dsse_dw3.T\n",
        "        b3 -= eta * dsse_db3\n",
        "\n",
        "    \n",
        "        sse += np.sum((y_pred - y)**2) #squared_error\n",
        "    training_losses.append(sse)\n",
        "    #Accuracy\n",
        "    acc = accuracy(predict(x_train),y_train)\n",
        "    print(f\"Accuracy of Trial {epoch}: {acc} ------ Loss= {sse/len(y_train)}\")\n",
        "    \n",
        "\n",
        "    train_mse = sse/len(x_train)\n",
        "\n",
        "    # if epoch % test_interval == 0: \n",
        "    #     # [ ] test on validation set here\n",
        "\n",
        "    #     # if termination condition is satisfied, exit\n",
        "    #     if val_mse < threshold:\n",
        "    #         break\n",
        "\n",
        "    if epoch % stepsize == 0 and epoch != 0:\n",
        "        eta = eta*gamma\n",
        "        print('Changed learning rate to lr=' + str(eta))"
      ],
      "execution_count": 187,
      "outputs": [
        {
          "output_type": "stream",
          "text": [
            "Accuracy of Trial 0: 0.5090420911316422 ------ Loss= 0.9822573347529615\n",
            "Accuracy of Trial 1: 0.5119639895759279 ------ Loss= 0.930392012177188\n",
            "Accuracy of Trial 2: 0.6357103372028785 ------ Loss= 0.7383816895672812\n",
            "Accuracy of Trial 3: 0.659440890784188 ------ Loss= 0.6609801737377046\n",
            "Accuracy of Trial 4: 0.670417752507325 ------ Loss= 0.647503236893287\n",
            "Accuracy of Trial 5: 0.6833293848219415 ------ Loss= 0.6375099329146615\n",
            "Accuracy of Trial 6: 0.6867251046355729 ------ Loss= 0.6263932940341685\n",
            "Accuracy of Trial 7: 0.7010976861723378 ------ Loss= 0.614336931825223\n",
            "Accuracy of Trial 8: 0.7056384742952178 ------ Loss= 0.6026341513298904\n",
            "Accuracy of Trial 9: 0.7146015951986421 ------ Loss= 0.5921228933361494\n",
            "Accuracy of Trial 10: 0.7142462291716346 ------ Loss= 0.583797792470509\n",
            "Accuracy of Trial 11: 0.7162204848772343 ------ Loss= 0.5766947815473887\n",
            "Accuracy of Trial 12: 0.7176024638711547 ------ Loss= 0.5712604466952078\n",
            "Accuracy of Trial 13: 0.7165363657901306 ------ Loss= 0.5671908399307163\n",
            "Accuracy of Trial 14: 0.7117981520966912 ------ Loss= 0.5633169260194503\n",
            "Accuracy of Trial 15: 0.7246702992972016 ------ Loss= 0.5602960977474719\n",
            "Accuracy of Trial 16: 0.7257758824923382 ------ Loss= 0.5582052739916827\n",
            "Accuracy of Trial 17: 0.727473742399154 ------ Loss= 0.5559532256079228\n",
            "Accuracy of Trial 18: 0.7207217878860018 ------ Loss= 0.5539161326569422\n",
            "Accuracy of Trial 19: 0.6939508805180692 ------ Loss= 0.5525382191746925\n",
            "Accuracy of Trial 20: 0.724828239753652 ------ Loss= 0.5509043069453357\n",
            "Accuracy of Trial 21: 0.7091526494511855 ------ Loss= 0.549500980376395\n",
            "Accuracy of Trial 22: 0.710653083787443 ------ Loss= 0.5482374655904225\n",
            "Accuracy of Trial 23: 0.7232488351891697 ------ Loss= 0.547115774778435\n",
            "Accuracy of Trial 24: 0.7049672273553164 ------ Loss= 0.5463387242673172\n",
            "Accuracy of Trial 25: 0.7268419805733638 ------ Loss= 0.545750625411211\n",
            "Accuracy of Trial 26: 0.7254600015794449 ------ Loss= 0.5446663350301538\n",
            "Accuracy of Trial 27: 0.7247097844113131 ------ Loss= 0.5437634316676151\n",
            "Accuracy of Trial 28: 0.7267630103451369 ------ Loss= 0.5431776784411139\n",
            "Accuracy of Trial 29: 0.716694306246581 ------ Loss= 0.5426864394471103\n"
          ],
          "name": "stdout"
        }
      ]
    },
    {
      "cell_type": "code",
      "metadata": {
        "colab": {
          "base_uri": "https://localhost:8080/",
          "height": 530
        },
        "id": "-3HTWylZ9q_v",
        "outputId": "c778448e-a100-4675-f807-92fc8f1f2763"
      },
      "source": [
        "plt.figure(figsize=(10,8))\n",
        "plt.plot(training_losses, lw=4, color='purple', label='Training Loss')\n",
        "\n",
        "plt.xlabel('Iteration')\n",
        "plt.ylabel('Loss')\n",
        "plt.title('Loss over Iterations')\n",
        "plt.legend()"
      ],
      "execution_count": 188,
      "outputs": [
        {
          "output_type": "execute_result",
          "data": {
            "text/plain": [
              "<matplotlib.legend.Legend at 0x7fcccb74cd30>"
            ]
          },
          "metadata": {
            "tags": []
          },
          "execution_count": 188
        },
        {
          "output_type": "display_data",
          "data": {
            "image/png": "[encoded data removed]",
            "text/plain": [
              "<Figure size 720x576 with 1 Axes>"
            ]
          },
          "metadata": {
            "tags": [],
            "needs_background": "light"
          }
        }
      ]
    }
  ]
}