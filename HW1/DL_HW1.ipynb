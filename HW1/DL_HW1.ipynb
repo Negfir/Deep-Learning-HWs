{
  "nbformat": 4,
  "nbformat_minor": 0,
  "metadata": {
    "colab": {
      "name": "DL_HW1.ipynb",
      "provenance": [],
      "authorship_tag": "ABX9TyO/is/Kqx92zhqpFhxGnIHp",
      "include_colab_link": true
    },
    "kernelspec": {
      "name": "python3",
      "display_name": "Python 3"
    }
  },
  "cells": [
    {
      "cell_type": "markdown",
      "metadata": {
        "id": "view-in-github",
        "colab_type": "text"
      },
      "source": [
        "<a href=\"https://colab.research.google.com/github/Negfir/Deep-Learning-HWs/blob/main/HW1/DL_HW1.ipynb\" target=\"_parent\"><img src=\"https://colab.research.google.com/assets/colab-badge.svg\" alt=\"Open In Colab\"/></a>"
      ]
    },
    {
      "cell_type": "code",
      "metadata": {
        "id": "d5k3co7eOGAK"
      },
      "source": [
        "import numpy as np\n",
        "import time\n",
        "import pandas as pd\n",
        "import matplotlib.pyplot as plt"
      ],
      "execution_count": null,
      "outputs": []
    },
    {
      "cell_type": "code",
      "metadata": {
        "colab": {
          "base_uri": "https://localhost:8080/"
        },
        "id": "eWYlol6COg7Q",
        "outputId": "3663aa47-4802-47b1-ad80-73b6941f054a"
      },
      "source": [
        "from google.colab import drive\n",
        "drive.mount('/content/gdrive' )"
      ],
      "execution_count": 8,
      "outputs": [
        {
          "output_type": "stream",
          "text": [
            "Drive already mounted at /content/gdrive; to attempt to forcibly remount, call drive.mount(\"/content/gdrive\", force_remount=True).\n"
          ],
          "name": "stdout"
        }
      ]
    },
    {
      "cell_type": "code",
      "metadata": {
        "colab": {
          "base_uri": "https://localhost:8080/"
        },
        "id": "rmzJ8j_4Or1a",
        "outputId": "a6c04a48-d654-4621-fd03-40e5c7a01011"
      },
      "source": [
        "%cd '/content/gdrive/My Drive/Dataset'\n"
      ],
      "execution_count": 9,
      "outputs": [
        {
          "output_type": "stream",
          "text": [
            "/content/gdrive/My Drive/Dataset\n"
          ],
          "name": "stdout"
        }
      ]
    },
    {
      "cell_type": "code",
      "metadata": {
        "colab": {
          "base_uri": "https://localhost:8080/"
        },
        "id": "WGvJKF-2O0RT",
        "outputId": "e274c28f-2fb6-433e-e858-473e168a2a94"
      },
      "source": [
        "# Training Data\n",
        "x_train = pd.read_csv('data/training_set.csv', header=None).values\n",
        "y_train = pd.read_csv('data/training_labels_bin.csv', header=None).values\n",
        "x_val = pd.read_csv('data/validation_set.csv', header=None).values\n",
        "y_val = pd.read_csv('data/validation_labels_bin.csv', header=None).values\n",
        "N = len(x_train)\n",
        "N"
      ],
      "execution_count": 13,
      "outputs": [
        {
          "output_type": "execute_result",
          "data": {
            "text/plain": [
              "8442"
            ]
          },
          "metadata": {
            "tags": []
          },
          "execution_count": 13
        }
      ]
    },
    {
      "cell_type": "code",
      "metadata": {
        "colab": {
          "base_uri": "https://localhost:8080/",
          "height": 234
        },
        "id": "vkOtJ1LwN8X8",
        "outputId": "c160c755-51af-4066-f5bd-9478340274cc"
      },
      "source": [
        "start = time.time()\n",
        "\n",
        "\n",
        "\n",
        "num_feats = x_train.shape[1]\n",
        "n_out = y_train.shape[1]\n",
        "\n",
        "# hyperparameters (you may change these)\n",
        "eta = 0.1 # intial learning rate\n",
        "gamma = 0.1 # multiplier for the learning rate\n",
        "stepsize = 200 # epochs before changing learning rate\n",
        "threshold = 0.08 # stopping criterion\n",
        "test_interval = 10 # number of epoch before validating\n",
        "max_epoch = 3000\n",
        "\n",
        "# Define Architecture of NN\n",
        "# [ ] Intialize your network weights and biases here\n",
        "\n",
        "for epoch in range(0, max_epoch):\n",
        "    \n",
        "    order = np.random.permutation(N) # shuffle data\n",
        "    \n",
        "    sse = 0\n",
        "    for n in range(0, N):\n",
        "        idx = order[n]\n",
        "\n",
        "        # get a sample (batch size=1)\n",
        "        x_in = np.array(x_train[idx]).reshape((num_feats, 1))\n",
        "        y = np.array(y_train[idx]).reshape((n_out, 1))\n",
        "\n",
        "        # [ ] do the forward pass here\n",
        "        # hint: you need to save the output of each layer to calculate the gradients later\n",
        "\n",
        "    \n",
        "        # [ ] compute error and gradients here\n",
        "        # hint: don't forget the chain rule\n",
        "               \n",
        "\n",
        "        # [ ] update weights and biases here\n",
        "        # update weights and biases in output layer \n",
        "\n",
        "    \n",
        "        sse += squared_error\n",
        "\n",
        "    train_mse = sse/len(x_train)\n",
        "\n",
        "    if epoch % test_interval == 0: \n",
        "        # [ ] test on validation set here\n",
        "\n",
        "        # if termination condition is satisfied, exit\n",
        "        if val_mse < threshold:\n",
        "            break\n",
        "\n",
        "    if epoch % stepsize == 0 and epoch != 0:\n",
        "        eta = eta*gamma\n",
        "        print('Changed learning rate to lr=' + str(eta))"
      ],
      "execution_count": 12,
      "outputs": [
        {
          "output_type": "error",
          "ename": "NameError",
          "evalue": "ignored",
          "traceback": [
            "\u001b[0;31m---------------------------------------------------------------------------\u001b[0m",
            "\u001b[0;31mNameError\u001b[0m                                 Traceback (most recent call last)",
            "\u001b[0;32m<ipython-input-12-87400a51de8d>\u001b[0m in \u001b[0;36m<module>\u001b[0;34m()\u001b[0m\n\u001b[1;32m     41\u001b[0m \u001b[0;34m\u001b[0m\u001b[0m\n\u001b[1;32m     42\u001b[0m \u001b[0;34m\u001b[0m\u001b[0m\n\u001b[0;32m---> 43\u001b[0;31m         \u001b[0msse\u001b[0m \u001b[0;34m+=\u001b[0m \u001b[0msquared_error\u001b[0m\u001b[0;34m\u001b[0m\u001b[0;34m\u001b[0m\u001b[0m\n\u001b[0m\u001b[1;32m     44\u001b[0m \u001b[0;34m\u001b[0m\u001b[0m\n\u001b[1;32m     45\u001b[0m     \u001b[0mtrain_mse\u001b[0m \u001b[0;34m=\u001b[0m \u001b[0msse\u001b[0m\u001b[0;34m/\u001b[0m\u001b[0mlen\u001b[0m\u001b[0;34m(\u001b[0m\u001b[0mx_train\u001b[0m\u001b[0;34m)\u001b[0m\u001b[0;34m\u001b[0m\u001b[0;34m\u001b[0m\u001b[0m\n",
            "\u001b[0;31mNameError\u001b[0m: name 'squared_error' is not defined"
          ]
        }
      ]
    }
  ]
}