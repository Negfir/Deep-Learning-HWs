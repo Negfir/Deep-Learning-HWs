{
  "nbformat": 4,
  "nbformat_minor": 0,
  "metadata": {
    "colab": {
      "name": "DL_HW1.ipynb",
      "provenance": [],
      "collapsed_sections": [],
      "include_colab_link": true
    },
    "kernelspec": {
      "name": "python3",
      "display_name": "Python 3"
    }
  },
  "cells": [
    {
      "cell_type": "markdown",
      "metadata": {
        "id": "view-in-github",
        "colab_type": "text"
      },
      "source": [
        "<a href=\"https://colab.research.google.com/github/Negfir/Deep-Learning-HWs/blob/main/HW1/DL_HW1.ipynb\" target=\"_parent\"><img src=\"https://colab.research.google.com/assets/colab-badge.svg\" alt=\"Open In Colab\"/></a>"
      ]
    },
    {
      "cell_type": "code",
      "metadata": {
        "id": "d5k3co7eOGAK"
      },
      "source": [
        "import numpy as np\n",
        "import time\n",
        "import pandas as pd\n",
        "import matplotlib.pyplot as plt\n",
        "import torch\n"
      ],
      "execution_count": 1,
      "outputs": []
    },
    {
      "cell_type": "code",
      "metadata": {
        "colab": {
          "base_uri": "https://localhost:8080/"
        },
        "id": "eWYlol6COg7Q",
        "outputId": "b70176bb-2f16-4226-e2bb-37b543ef3c92"
      },
      "source": [
        "from google.colab import drive\n",
        "drive.mount('/content/gdrive' )"
      ],
      "execution_count": 2,
      "outputs": [
        {
          "output_type": "stream",
          "text": [
            "Mounted at /content/gdrive\n"
          ],
          "name": "stdout"
        }
      ]
    },
    {
      "cell_type": "code",
      "metadata": {
        "colab": {
          "base_uri": "https://localhost:8080/"
        },
        "id": "rmzJ8j_4Or1a",
        "outputId": "5ffcd1cf-ca7d-4473-9535-0efae66b41fb"
      },
      "source": [
        "%cd '/content/gdrive/My Drive/Dataset'\n"
      ],
      "execution_count": 3,
      "outputs": [
        {
          "output_type": "stream",
          "text": [
            "/content/gdrive/My Drive/Dataset\n"
          ],
          "name": "stdout"
        }
      ]
    },
    {
      "cell_type": "code",
      "metadata": {
        "colab": {
          "base_uri": "https://localhost:8080/"
        },
        "id": "OaWZJm6eLX6E",
        "outputId": "8de7aa57-5de6-491c-b1d1-e3705f43d756"
      },
      "source": [
        "# Training Data\n",
        "x_train = pd.read_csv('data/training_set.csv', header=None).values\n",
        "y_train = pd.read_csv('data/training_labels_bin.csv', header=None).values\n",
        "x_val = pd.read_csv('data/validation_set.csv', header=None).values\n",
        "y_val = pd.read_csv('data/validation_labels_bin.csv', header=None).values\n",
        "N = len(x_train)\n",
        "x_train.shape"
      ],
      "execution_count": 4,
      "outputs": [
        {
          "output_type": "execute_result",
          "data": {
            "text/plain": [
              "(8442, 354)"
            ]
          },
          "metadata": {
            "tags": []
          },
          "execution_count": 4
        }
      ]
    },
    {
      "cell_type": "code",
      "metadata": {
        "colab": {
          "base_uri": "https://localhost:8080/"
        },
        "id": "KovAb8OELf4T",
        "outputId": "a9e2bea2-2679-440a-8536-34bef148a639"
      },
      "source": [
        "start = time.time()\n",
        "\n",
        "torch.manual_seed(6)\n",
        "\n",
        "num_feats = x_train.shape[1]\n",
        "n_out = y_train.shape[1]\n",
        "\n",
        "# hyperparameters (you may change these)\n",
        "eta = 0.005 # intial learning rate\n",
        "gamma = 0.1 # multiplier for the learning rate\n",
        "stepsize = 200 # epochs before changing learning rate\n",
        "threshold = 0.08 # stopping criterion\n",
        "test_interval = 1 # number of epoch before validating\n",
        "max_epoch = 30\n",
        "\n",
        "\n",
        "# Define Architecture of NN\n",
        "# [ ] Intialize your network weights and biases here\n",
        "\n",
        "#Network size\n",
        "inputSize = x_train.shape[1]\n",
        "outputSize = 3\n",
        "hidden_1_Size = 16\n",
        "hidden_2_Size = 8\n",
        "\n",
        "# Initializing weights and biases with random values\n",
        "W1= np.random.rand(inputSize, hidden_1_Size)\n",
        "W1 = 1 - (W1*2)\n",
        "b1 = np.random.randn(hidden_1_Size)\n",
        "\n",
        "W2= np.random.rand(hidden_1_Size, hidden_2_Size)\n",
        "W2 = 1 - (W2*2)\n",
        "b2 = np.random.randn(hidden_2_Size)\n",
        "\n",
        "W3= np.random.rand(hidden_2_Size, outputSize)\n",
        "W3 = 1 - (W3*2)\n",
        "b3 = np.random.randn(outputSize)\n",
        "\n",
        "def sigmoid(x):\n",
        "    return 1/(1+np.exp(-x))\n",
        "\n",
        "def sigmoid_der(x):\n",
        "    return sigmoid(x) *(1-sigmoid (x))\n",
        "\n",
        "#Predict and accuracy functions (Since the labels where 0 or 1, we added an extra function to test the model's accuracy and therefore added a treshold for assigning 0 or 1 to predictions. This part is extra and does not have any effect on the loss function and backpropagation)\n",
        "def predict(x):\n",
        "    z1_ = np.matmul(x,W1)+b1\n",
        "    h1_ = sigmoid(z1_)\n",
        "    z2_ = np.matmul( h1_, W2)+b2\n",
        "    h2_ = sigmoid(z2_)\n",
        "    z3_ = np.matmul(h2_, W3)+b3\n",
        "    y_pred_ = sigmoid(z3_)\n",
        "    # y_pred = np.where(y_pred > 0.5, 1, 0)\n",
        "    return y_pred_\n",
        "\n",
        "def accuracy(pred, y):\n",
        "    acc=0\n",
        "    for i,x in enumerate(pred):\n",
        "      acc += np.sum(x == y[i])/float(len(y[i]))\n",
        "    return acc/len(pred)\n",
        "\n",
        "\n",
        "training_losses = []\n",
        "val_loss=[]\n",
        "\n",
        "for epoch in range(0, max_epoch):\n",
        "    \n",
        "    order = np.random.permutation(N) # shuffle data\n",
        "    \n",
        "    sse = 0\n",
        "    sse_val = 0\n",
        "    for n in range(0, N):\n",
        "        idx = order[n]\n",
        "\n",
        "        # get a sample (batch size=1)\n",
        "        x_in = x_train[idx]\n",
        "        y = y_train[idx]\n",
        "\n",
        "        # [ ] do the forward pass here\n",
        "        # hint: you need to save the output of each layer to calculate the gradients later\n",
        "        z1 = np.matmul(x_in,W1)+b1\n",
        "        h1 = sigmoid(z1)\n",
        "        z2 = np.matmul( h1, W2)+b2\n",
        "        h2 = sigmoid(z2)\n",
        "        z3 = np.matmul(h2, W3)+b3\n",
        "        y_pred = sigmoid(z3)\n",
        "    \n",
        "        # [ ] compute error and gradients here\n",
        "        # hint: don't forget the chain rule\n",
        "\n",
        "        #output layer gradients\n",
        "        dsse_dy = np.sum(2*(y_pred - y))\n",
        "        dy_dz3 = sigmoid_der(z3)\n",
        "        dsse_dz3 = dsse_dy * dy_dz3\n",
        "        dz3_dw3 = h2\n",
        "        dsse_dw3 = np.dot(dsse_dz3.reshape(len(dsse_dz3),1),dz3_dw3.reshape(1,len(dz3_dw3)))\n",
        "        dsse_db3 = np.dot(dsse_dy,dy_dz3)\n",
        "\n",
        "        #hidden2 layer gradients\n",
        "        dz3_dh2 = W3\n",
        "        dsse_dh2 = np.dot(dz3_dh2,dsse_dz3)\n",
        "        dh2_dz2 = sigmoid_der(z2)\n",
        "        dsse_dz2 = dh2_dz2 * dsse_dh2\n",
        "        dz2_dw2 = h1\n",
        "        dsse_dw2 = np.dot(dsse_dz2.reshape(len(dsse_dz2),1),dz2_dw2.reshape(1,len(dz2_dw2)))\n",
        "        dsse_db2 = dh2_dz2 * dsse_dh2\n",
        "\n",
        "        #hidden1 layer gradients\n",
        "        dz2_dh1 = W2\n",
        "        dsse_dh1 = np.dot(dz2_dh1,dsse_dz2)\n",
        "        dh1_dz1 = sigmoid_der(z1)\n",
        "        dsse_dz1 = dh1_dz1 * dsse_dh1\n",
        "        dz1_dw1 = x_in\n",
        "        dsse_dw1 = np.dot(dsse_dz1.reshape(len(dsse_dz1),1),dz1_dw1.reshape(1,len(dz1_dw1)))\n",
        "        dsse_db1 = dh1_dz1 * dsse_dh1\n",
        "\n",
        "\n",
        "\n",
        "        # [ ] update weights and biases here\n",
        "        # update weights and biases in output layer \n",
        "        W1 -= eta * dsse_dw1.T\n",
        "        b1 -= eta * dsse_db1\n",
        "\n",
        "        W2 -= eta * dsse_dw2.T\n",
        "        b2 -= eta * dsse_db2\n",
        "\n",
        "        W3 -= eta * dsse_dw3.T\n",
        "        b3 -= eta * dsse_db3\n",
        "\n",
        "    \n",
        "        sse += np.sum((predict(x_in) - y)**2) #squared_error\n",
        "    training_losses.append(sse/N)\n",
        "    print(len(y_train))\n",
        "\n",
        "    #Accuracy\n",
        "    acc = accuracy(predict(x_train),y_train)\n",
        "    print(f\"Accuracy of Trial {epoch}: {acc} ------ Loss= {sse/len(y_train)}\")\n",
        "    \n",
        "\n",
        "    if epoch % test_interval == 0: \n",
        "        # [ ] test on validation set here\n",
        "        acc_val = accuracy(predict(x_val),y_val)\n",
        "        sse_val_vec = np.sum((predict(x_val) - y_val)**2,axis =1)\n",
        "        # print(sse_val_vec)\n",
        "        sse_val = np.sum(sse_val_vec)/len(y_val) #squared_error\n",
        "        print(f\"Accuracy of Test {epoch}: {acc_val} ------ Loss= {sse_val}\")\n",
        "        val_loss.append(sse_val)\n",
        "    \n",
        "        # if termination condition is satisfied, exit\n",
        "        if (sse_val) < threshold:\n",
        "            break\n",
        "\n",
        "\n",
        "    if epoch % stepsize == 0 and epoch != 0:\n",
        "        eta = eta*gamma\n",
        "        print('Changed learning rate to lr=' + str(eta))"
      ],
      "execution_count": 19,
      "outputs": [
        {
          "output_type": "stream",
          "text": [
            "8442\n",
            "Accuracy of Trial 0: 0.0 ------ Loss= 0.7776811048168446\n",
            "Accuracy of Test 0: 0.0 ------ Loss= 0.7203594633947656\n",
            "8442\n",
            "Accuracy of Trial 1: 0.0 ------ Loss= 0.7092481689795884\n",
            "Accuracy of Test 1: 0.0 ------ Loss= 0.5771809924807136\n",
            "8442\n",
            "Accuracy of Trial 2: 0.0 ------ Loss= 0.6598735101952091\n",
            "Accuracy of Test 2: 0.0 ------ Loss= 0.530937367852858\n",
            "8442\n",
            "Accuracy of Trial 3: 0.0 ------ Loss= 0.6413130034503228\n",
            "Accuracy of Test 3: 0.0 ------ Loss= 0.49768741974900993\n",
            "8442\n",
            "Accuracy of Trial 4: 0.0 ------ Loss= 0.6266419377964807\n",
            "Accuracy of Test 4: 0.0 ------ Loss= 0.4846704205577033\n",
            "8442\n",
            "Accuracy of Trial 5: 0.0 ------ Loss= 0.6113703986538083\n",
            "Accuracy of Test 5: 0.0 ------ Loss= 0.4547494428377915\n",
            "8442\n",
            "Accuracy of Trial 6: 0.0 ------ Loss= 0.5976925139162871\n",
            "Accuracy of Test 6: 0.0 ------ Loss= 0.41789898122211727\n",
            "8442\n",
            "Accuracy of Trial 7: 0.0 ------ Loss= 0.5865491312310535\n",
            "Accuracy of Test 7: 0.0 ------ Loss= 0.4171242941008075\n",
            "8442\n",
            "Accuracy of Trial 8: 0.0 ------ Loss= 0.5772949848232024\n",
            "Accuracy of Test 8: 0.0 ------ Loss= 0.40998162275497746\n",
            "8442\n",
            "Accuracy of Trial 9: 0.0 ------ Loss= 0.5700401354324703\n",
            "Accuracy of Test 9: 0.0 ------ Loss= 0.39502419924613014\n",
            "8442\n",
            "Accuracy of Trial 10: 0.0 ------ Loss= 0.5645249270566088\n",
            "Accuracy of Test 10: 0.0 ------ Loss= 0.4074493647236458\n",
            "8442\n",
            "Accuracy of Trial 11: 0.0 ------ Loss= 0.5590973195722556\n",
            "Accuracy of Test 11: 0.0 ------ Loss= 0.39151331153765834\n",
            "8442\n",
            "Accuracy of Trial 12: 0.0 ------ Loss= 0.554975121061796\n",
            "Accuracy of Test 12: 0.0 ------ Loss= 0.3786215636185509\n",
            "8442\n",
            "Accuracy of Trial 13: 0.0 ------ Loss= 0.551635949624233\n",
            "Accuracy of Test 13: 0.0 ------ Loss= 0.37101643013012514\n",
            "8442\n",
            "Accuracy of Trial 14: 0.0 ------ Loss= 0.5491066325060096\n",
            "Accuracy of Test 14: 0.0 ------ Loss= 0.3733873376833195\n",
            "8442\n",
            "Accuracy of Trial 15: 0.0 ------ Loss= 0.5467339045721801\n",
            "Accuracy of Test 15: 0.0 ------ Loss= 0.3825724441165388\n",
            "8442\n",
            "Accuracy of Trial 16: 0.0 ------ Loss= 0.5447513646911154\n",
            "Accuracy of Test 16: 0.0 ------ Loss= 0.36591880985221475\n",
            "8442\n",
            "Accuracy of Trial 17: 0.0 ------ Loss= 0.5427978911444366\n",
            "Accuracy of Test 17: 0.0 ------ Loss= 0.36444109867673274\n",
            "8442\n",
            "Accuracy of Trial 18: 0.0 ------ Loss= 0.5419020387321897\n",
            "Accuracy of Test 18: 0.0 ------ Loss= 0.3699060565242119\n",
            "8442\n",
            "Accuracy of Trial 19: 0.0 ------ Loss= 0.5403387797170514\n",
            "Accuracy of Test 19: 0.0 ------ Loss= 0.36123693440319943\n",
            "8442\n",
            "Accuracy of Trial 20: 0.0 ------ Loss= 0.5392833816563801\n",
            "Accuracy of Test 20: 0.0 ------ Loss= 0.36137079980178516\n",
            "8442\n",
            "Accuracy of Trial 21: 0.0 ------ Loss= 0.5386007337943544\n",
            "Accuracy of Test 21: 0.0 ------ Loss= 0.3666435219699057\n",
            "8442\n",
            "Accuracy of Trial 22: 0.0 ------ Loss= 0.5374549016480454\n",
            "Accuracy of Test 22: 0.0 ------ Loss= 0.3601641503257381\n",
            "8442\n",
            "Accuracy of Trial 23: 0.0 ------ Loss= 0.5368010693366096\n",
            "Accuracy of Test 23: 0.0 ------ Loss= 0.367105118047612\n",
            "8442\n",
            "Accuracy of Trial 24: 0.0 ------ Loss= 0.5362045395139879\n",
            "Accuracy of Test 24: 0.0 ------ Loss= 0.3630557754581636\n",
            "8442\n",
            "Accuracy of Trial 25: 0.0 ------ Loss= 0.5358149371513128\n",
            "Accuracy of Test 25: 0.0 ------ Loss= 0.3610832043443621\n",
            "8442\n",
            "Accuracy of Trial 26: 0.0 ------ Loss= 0.5349617155763099\n",
            "Accuracy of Test 26: 0.0 ------ Loss= 0.3584713137956737\n",
            "8442\n",
            "Accuracy of Trial 27: 0.0 ------ Loss= 0.5346181263417551\n",
            "Accuracy of Test 27: 0.0 ------ Loss= 0.35874845563974533\n",
            "8442\n",
            "Accuracy of Trial 28: 0.0 ------ Loss= 0.5347598103412142\n",
            "Accuracy of Test 28: 0.0 ------ Loss= 0.36211449981437865\n",
            "8442\n",
            "Accuracy of Trial 29: 0.0 ------ Loss= 0.5338851571567965\n",
            "Accuracy of Test 29: 0.0 ------ Loss= 0.361145044004252\n"
          ],
          "name": "stdout"
        }
      ]
    },
    {
      "cell_type": "code",
      "metadata": {
        "colab": {
          "base_uri": "https://localhost:8080/",
          "height": 530
        },
        "id": "-3HTWylZ9q_v",
        "outputId": "312a1a53-f27a-4595-ae33-a17881bed836"
      },
      "source": [
        "plt.figure(figsize=(10,8))\n",
        "plt.plot(training_losses[0:100], lw=4, color='blue', label='Training Loss')\n",
        "plt.plot(val_loss[0:100], lw=4, color='red', label='Validation Loss')\n",
        "\n",
        "plt.xlabel('Iteration')\n",
        "plt.ylabel('Loss')\n",
        "plt.title('Loss over Iterations')\n",
        "plt.legend()"
      ],
      "execution_count": 20,
      "outputs": [
        {
          "output_type": "execute_result",
          "data": {
            "text/plain": [
              "<matplotlib.legend.Legend at 0x7f843a71ffd0>"
            ]
          },
          "metadata": {
            "tags": []
          },
          "execution_count": 20
        },
        {
          "output_type": "display_data",
          "data": {
            "image/png": "[encoded data removed]",
            "text/plain": [
              "<Figure size 720x576 with 1 Axes>"
            ]
          },
          "metadata": {
            "tags": [],
            "needs_background": "light"
          }
        }
      ]
    }
  ]
}